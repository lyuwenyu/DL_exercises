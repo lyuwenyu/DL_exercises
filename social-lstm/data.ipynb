{
 "cells": [
  {
   "cell_type": "code",
   "execution_count": 131,
   "metadata": {
    "collapsed": true
   },
   "outputs": [],
   "source": [
    "import scipy\n",
    "import numpy as np\n",
    "import glob\n",
    "import sys\n",
    "import os\n",
    "import csv\n",
    "import matplotlib.pyplot as plt\n",
    "%matplotlib inline\n"
   ]
  },
  {
   "cell_type": "code",
   "execution_count": 129,
   "metadata": {
    "collapsed": false
   },
   "outputs": [
    {
     "name": "stdout",
     "output_type": "stream",
     "text": [
      "[[[ 0.68125  0.43125]\n",
      "  [ 0.73681  0.43958]\n",
      "  [ 0.79375  0.44844]\n",
      "  [ 0.85     0.4625 ]\n",
      "  [ 0.90903  0.47552]]]\n"
     ]
    }
   ],
   "source": [
    "with open('./data/data/eth/univ/pixel_pos.csv', 'rb') as f:\n",
    "    raw_data = csv.reader(f)\n",
    "    data = np.zeros((4, 5492))\n",
    "\n",
    "    for i,line in enumerate(raw_data):\n",
    "        data[i, :] = line\n",
    "    \n",
    "    #print data[:,1]\n",
    "    pers = np.unique(data[1, :])\n",
    "    \n",
    "    train_data = {}\n",
    "    \n",
    "    for i, per in enumerate(pers):\n",
    "        train_data[i] = data[2:4, data[1,:] == per]\n",
    "        \n",
    "    print train_data[0].transpose().reshape(1, -1, 2)"
   ]
  },
  {
   "cell_type": "code",
   "execution_count": null,
   "metadata": {
    "collapsed": false
   },
   "outputs": [],
   "source": [
    "pers = np"
   ]
  },
  {
   "cell_type": "code",
   "execution_count": 143,
   "metadata": {
    "collapsed": false
   },
   "outputs": [],
   "source": [
    "data = np.zeros((250, 250, 3))"
   ]
  },
  {
   "cell_type": "code",
   "execution_count": 144,
   "metadata": {
    "collapsed": false
   },
   "outputs": [],
   "source": [
    "plt.imsave('./bg.png', data)"
   ]
  },
  {
   "cell_type": "code",
   "execution_count": null,
   "metadata": {
    "collapsed": true
   },
   "outputs": [],
   "source": []
  }
 ],
 "metadata": {
  "anaconda-cloud": {},
  "kernelspec": {
   "display_name": "Python [default]",
   "language": "python",
   "name": "python2"
  },
  "language_info": {
   "codemirror_mode": {
    "name": "ipython",
    "version": 2
   },
   "file_extension": ".py",
   "mimetype": "text/x-python",
   "name": "python",
   "nbconvert_exporter": "python",
   "pygments_lexer": "ipython2",
   "version": "2.7.12"
  }
 },
 "nbformat": 4,
 "nbformat_minor": 1
}
