{
 "cells": [
  {
   "cell_type": "code",
   "execution_count": 14,
   "metadata": {
    "collapsed": true
   },
   "outputs": [],
   "source": [
    "import scipy\n",
    "import numpy as np\n",
    "import glob\n",
    "import sys\n",
    "import os\n",
    "import csv"
   ]
  },
  {
   "cell_type": "code",
   "execution_count": 123,
   "metadata": {
    "collapsed": false
   },
   "outputs": [
    {
     "name": "stdout",
     "output_type": "stream",
     "text": [
      "[  7.90000000e+02   1.00000000e+00   7.36810000e-01   4.39580000e-01]\n",
      "[[ 0.68125  0.73681  0.79375  0.85     0.90903]\n",
      " [ 0.43125  0.43958  0.44844  0.4625   0.47552]]\n"
     ]
    }
   ],
   "source": [
    "with open('./data/data/eth/univ/pixel_pos.csv', 'rb') as f:\n",
    "    raw_data = csv.reader(f)\n",
    "    data = np.zeros((4, 5492))\n",
    "\n",
    "    for i,line in enumerate(raw_data):\n",
    "        data[i, :] = line\n",
    "    \n",
    "    #print data[:,1]\n",
    "    pers = np.unique(data[1, :])\n",
    "    \n",
    "    train_data = {}\n",
    "    \n",
    "    for i, per in enumerate(pers):\n",
    "        train_data[i] = data[2:4, data[1,:] == per]\n",
    "        \n",
    "    print train_data[0]"
   ]
  },
  {
   "cell_type": "code",
   "execution_count": null,
   "metadata": {
    "collapsed": false
   },
   "outputs": [],
   "source": [
    "pers = np"
   ]
  },
  {
   "cell_type": "code",
   "execution_count": null,
   "metadata": {
    "collapsed": true
   },
   "outputs": [],
   "source": []
  }
 ],
 "metadata": {
  "anaconda-cloud": {},
  "kernelspec": {
   "display_name": "Python [default]",
   "language": "python",
   "name": "python2"
  },
  "language_info": {
   "codemirror_mode": {
    "name": "ipython",
    "version": 2
   },
   "file_extension": ".py",
   "mimetype": "text/x-python",
   "name": "python",
   "nbconvert_exporter": "python",
   "pygments_lexer": "ipython2",
   "version": "2.7.12"
  }
 },
 "nbformat": 4,
 "nbformat_minor": 1
}
